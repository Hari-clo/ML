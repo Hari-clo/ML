{
  "cells": [
    {
      "cell_type": "code",
      "execution_count": null,
      "metadata": {
        "id": "EqsftiXVuZQo"
      },
      "outputs": [],
      "source": [
        "import pandas as pd\n",
        "import random\n",
        "import gradio as gr"
      ]
    },
    {
      "cell_type": "code",
      "execution_count": null,
      "metadata": {
        "id": "slmgRsrJuai_"
      },
      "outputs": [],
      "source": [
        "entries = [\n",
        "    # English Movies - Action\n",
        "    {\"Type\": \"Movie\", \"Language\": \"English\", \"Genre\": \"Action\", \"Title\": \"The Dark Knight\"},\n",
        "    {\"Type\": \"Movie\", \"Language\": \"English\", \"Genre\": \"Action\", \"Title\": \"Gladiator\"},\n",
        "    {\"Type\": \"Movie\", \"Language\": \"English\", \"Genre\": \"Action\", \"Title\": \"The Matrix\"},\n",
        "    {\"Type\": \"Movie\", \"Language\": \"English\", \"Genre\": \"Action\", \"Title\": \"Avengers: Endgame\"},\n",
        "    {\"Type\": \"Movie\", \"Language\": \"English\", \"Genre\": \"Action\", \"Title\": \"Tenet\"},\n",
        "    {\"Type\": \"Movie\", \"Language\": \"English\", \"Genre\": \"Action\", \"Title\": \"Skyfall\"},\n",
        "\n",
        "    # English Movies - Romance\n",
        "    {\"Type\": \"Movie\", \"Language\": \"English\", \"Genre\": \"Romance\", \"Title\": \"The Fault in Our Stars\"},\n",
        "    {\"Type\": \"Movie\", \"Language\": \"English\", \"Genre\": \"Romance\", \"Title\": \"A Walk to Remember\"},\n",
        "    {\"Type\": \"Movie\", \"Language\": \"English\", \"Genre\": \"Romance\", \"Title\": \"Titanic\"},\n",
        "    {\"Type\": \"Movie\", \"Language\": \"English\", \"Genre\": \"Romance\", \"Title\": \"Notting Hill\"},\n",
        "    {\"Type\": \"Movie\", \"Language\": \"English\", \"Genre\": \"Romance\", \"Title\": \"Love, Rosie\"},\n",
        "\n",
        "    # Tamil Movies - Action\n",
        "    {\"Type\": \"Movie\", \"Language\": \"Tamil\", \"Genre\": \"Action\", \"Title\": \"Thani Oruvan\"},\n",
        "    {\"Type\": \"Movie\", \"Language\": \"Tamil\", \"Genre\": \"Action\", \"Title\": \"Ayan\"},\n",
        "    {\"Type\": \"Movie\", \"Language\": \"Tamil\", \"Genre\": \"Action\", \"Title\": \"Maanagaram\"},\n",
        "    {\"Type\": \"Movie\", \"Language\": \"Tamil\", \"Genre\": \"Action\", \"Title\": \"Soodhu Kavvum\"},\n",
        "\n",
        "    # Tamil Movies - Romance\n",
        "    {\"Type\": \"Movie\", \"Language\": \"Tamil\", \"Genre\": \"Romance\", \"Title\": \"Minnale\"},\n",
        "    {\"Type\": \"Movie\", \"Language\": \"Tamil\", \"Genre\": \"Romance\", \"Title\": \"Kadhalum Kadandhu Pogum\"},\n",
        "    {\"Type\": \"Movie\", \"Language\": \"Tamil\", \"Genre\": \"Romance\", \"Title\": \"Mouna Ragam\"},\n",
        "    {\"Type\": \"Movie\", \"Language\": \"Tamil\", \"Genre\": \"Romance\", \"Title\": \"Autograph\"},\n",
        "\n",
        "    # English Series - Action\n",
        "    {\"Type\": \"Series\", \"Language\": \"English\", \"Genre\": \"Action\", \"Title\": \"Jack Ryan\"},\n",
        "    {\"Type\": \"Series\", \"Language\": \"English\", \"Genre\": \"Action\", \"Title\": \"The Punisher\"},\n",
        "    {\"Type\": \"Series\", \"Language\": \"English\", \"Genre\": \"Action\", \"Title\": \"The Witcher\"},\n",
        "    {\"Type\": \"Series\", \"Language\": \"English\", \"Genre\": \"Action\", \"Title\": \"Loki\"},\n",
        "\n",
        "    # English Series - Romance\n",
        "    {\"Type\": \"Series\", \"Language\": \"English\", \"Genre\": \"Romance\", \"Title\": \"Jane The Virgin\"},\n",
        "    {\"Type\": \"Series\", \"Language\": \"English\", \"Genre\": \"Romance\", \"Title\": \"Gossip Girl\"},\n",
        "    {\"Type\": \"Series\", \"Language\": \"English\", \"Genre\": \"Romance\", \"Title\": \"Grey's Anatomy\"},\n",
        "    {\"Type\": \"Series\", \"Language\": \"English\", \"Genre\": \"Romance\", \"Title\": \"Normal People\"},\n",
        "\n",
        "    # Anime - Action\n",
        "    {\"Type\": \"Anime\", \"Language\": \"Japanese\", \"Genre\": \"Action\", \"Title\": \"Fullmetal Alchemist: Brotherhood\"},\n",
        "    {\"Type\": \"Anime\", \"Language\": \"Japanese\", \"Genre\": \"Action\", \"Title\": \"One Piece\"},\n",
        "    {\"Type\": \"Anime\", \"Language\": \"Japanese\", \"Genre\": \"Action\", \"Title\": \"Bleach\"},\n",
        "    {\"Type\": \"Anime\", \"Language\": \"Japanese\", \"Genre\": \"Action\", \"Title\": \"Vinland Saga\"},\n",
        "\n",
        "    # Anime - Romance\n",
        "    {\"Type\": \"Anime\", \"Language\": \"Japanese\", \"Genre\": \"Romance\", \"Title\": \"Clannad\"},\n",
        "    {\"Type\": \"Anime\", \"Language\": \"Japanese\", \"Genre\": \"Romance\", \"Title\": \"Ao Haru Ride\"},\n",
        "    {\"Type\": \"Anime\", \"Language\": \"Japanese\", \"Genre\": \"Romance\", \"Title\": \"A Silent Voice\"},\n",
        "    {\"Type\": \"Anime\", \"Language\": \"Japanese\", \"Genre\": \"Romance\", \"Title\": \"I Want to Eat Your Pancreas\"},\n",
        "]"
      ]
    },
    {
      "cell_type": "code",
      "execution_count": null,
      "metadata": {
        "id": "EyoQQjCCug9i"
      },
      "outputs": [],
      "source": [
        "df = pd.DataFrame(entries)\n",
        "def suggest_recommendation(user_input):\n",
        "    user_input = user_input.lower()\n",
        "    if \"anime\" in user_input:\n",
        "        typ = \"Anime\"\n",
        "    elif \"series\" in user_input:\n",
        "        typ = \"Series\"\n",
        "    elif \"movie\" in user_input:\n",
        "        typ = \"Movie\"\n",
        "    else:\n",
        "        return \"Please mention movie, series or anime in your request.\"\n",
        "\n",
        "    lang = None\n",
        "    if \"tamil\" in user_input:\n",
        "        lang = \"Tamil\"\n",
        "    elif \"english\" in user_input:\n",
        "        lang = \"English\"\n",
        "    genres = df['Genre'].unique()\n",
        "    genre_match = [g for g in genres if g.lower() in user_input]\n",
        "    if not genre_match:\n",
        "        return \"Please include a genre like Action, Romance, etc.\"\n",
        "    genre = genre_match[0]\n",
        "    results = df[df['Type'] == typ]\n",
        "    if lang:\n",
        "        results = results[results['Language'] == lang]\n",
        "    results = results[results['Genre'].str.lower() == genre.lower()]\n",
        "\n",
        "    if results.empty:\n",
        "        return \"No recommendations found for your input. Try another genre or type.\"\n",
        "    recommendations = random.sample(results['Title'].tolist(), min(6, len(results)))\n",
        "    response = f\"Here are some {genre} {typ.lower()} suggestions:\\n\" + \"\\n\".join([f\"- {title}\" for title in recommendations])\n",
        "    return response\n"
      ]
    },
    {
      "cell_type": "code",
      "execution_count": null,
      "metadata": {
        "id": "GWVw1kgmu20D"
      },
      "outputs": [],
      "source": [
        "gui = gr.Interface(\n",
        "    fn=suggest_recommendation,\n",
        "    inputs=gr.Textbox(label=\"Ask for a recommendation (ex: Tamil action movie)\"),\n",
        "    outputs=gr.Textbox(label=\"Chatbot Response\"),\n",
        "    title=\"🎬 Movie/Series/Anime Recommender Chatbot\",\n",
        "    description=\"Ask me for a genre-based suggestion. Use keywords like 'Tamil', 'English', 'Romance', 'Action', etc.\",\n",
        "    theme=\"soft\",\n",
        "    live=False\n",
        ")\n"
      ]
    },
    {
      "cell_type": "code",
      "execution_count": null,
      "metadata": {
        "colab": {
          "background_save": true,
          "base_uri": "https://localhost:8080/",
          "height": 663
        },
        "id": "zYw24jE-u4Ny",
        "outputId": "0b577bc4-6a08-42a9-ac22-c5942e920a23"
      },
      "outputs": [
        {
          "name": "stdout",
          "output_type": "stream",
          "text": [
            "It looks like you are running Gradio on a hosted a Jupyter notebook. For the Gradio app to work, sharing must be enabled. Automatically setting `share=True` (you can turn this off by setting `share=False` in `launch()` explicitly).\n",
            "\n",
            "Colab notebook detected. This cell will run indefinitely so that you can see errors and logs. To turn off, set debug=False in launch().\n",
            "* Running on public URL: https://fae449b7e955952988.gradio.live\n",
            "\n",
            "This share link expires in 1 week. For free permanent hosting and GPU upgrades, run `gradio deploy` from the terminal in the working directory to deploy to Hugging Face Spaces (https://huggingface.co/spaces)\n"
          ]
        },
        {
          "data": {
            "text/html": [
              "<div><iframe src=\"https://fae449b7e955952988.gradio.live\" width=\"100%\" height=\"500\" allow=\"autoplay; camera; microphone; clipboard-read; clipboard-write;\" frameborder=\"0\" allowfullscreen></iframe></div>"
            ],
            "text/plain": [
              "<IPython.core.display.HTML object>"
            ]
          },
          "metadata": {},
          "output_type": "display_data"
        },
        {
          "name": "stdout",
          "output_type": "stream",
          "text": [
            "Created dataset file at: .gradio/flagged/dataset2.csv\n"
          ]
        }
      ],
      "source": [
        "gui.launch(debug=True)"
      ]
    }
  ],
  "metadata": {
    "colab": {
      "gpuType": "T4",
      "provenance": []
    },
    "kernelspec": {
      "display_name": "Python 3",
      "name": "python3"
    },
    "language_info": {
      "name": "python"
    }
  },
  "nbformat": 4,
  "nbformat_minor": 0
}