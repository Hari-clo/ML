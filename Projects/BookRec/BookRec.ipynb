{
  "nbformat": 4,
  "nbformat_minor": 0,
  "metadata": {
    "colab": {
      "provenance": []
    },
    "kernelspec": {
      "name": "python3",
      "display_name": "Python 3"
    },
    "language_info": {
      "name": "python"
    }
  },
  "cells": [
    {
      "cell_type": "code",
      "execution_count": 14,
      "metadata": {
        "id": "HAK_ZOQNCD1i"
      },
      "outputs": [],
      "source": [
        "import pandas as pd\n",
        "from sklearn.neighbors import NearestNeighbors\n",
        "from scipy.sparse import csr_matrix\n",
        "import difflib"
      ]
    },
    {
      "cell_type": "code",
      "source": [
        "ratings = pd.read_csv(\"https://raw.githubusercontent.com/zygmuntz/goodbooks-10k/master/ratings.csv\")\n",
        "books = pd.read_csv(\"https://raw.githubusercontent.com/zygmuntz/goodbooks-10k/master/books.csv\")\n",
        "\n",
        "print(\"Ratings shape:\", ratings.shape)\n",
        "print(\"Books shape:\", books.shape)"
      ],
      "metadata": {
        "colab": {
          "base_uri": "https://localhost:8080/"
        },
        "id": "0-wP6tzcCrm-",
        "outputId": "09ccdfb8-d9d4-4391-f3f0-e30c426f1d68"
      },
      "execution_count": 15,
      "outputs": [
        {
          "output_type": "stream",
          "name": "stdout",
          "text": [
            "Ratings shape: (5976479, 3)\n",
            "Books shape: (10000, 23)\n"
          ]
        }
      ]
    },
    {
      "cell_type": "code",
      "metadata": {
        "colab": {
          "base_uri": "https://localhost:8080/"
        },
        "id": "881a5fdf",
        "outputId": "e0026226-9c25-4108-bdc5-3885559f30bb"
      },
      "source": [
        "user_counts = ratings['user_id'].value_counts()\n",
        "active_users = user_counts[user_counts >= 50].index\n",
        "ratings = ratings[ratings['user_id'].isin(active_users)]\n",
        "print(\"Shape after user filtering:\", ratings.shape)\n",
        "\n",
        "book_counts = ratings['book_id'].value_counts()\n",
        "popular_books = book_counts[book_counts >= 10].index\n",
        "ratings = ratings[ratings['book_id'].isin(popular_books)]\n",
        "print(\"Shape after book filtering:\", ratings.shape)\n",
        "\n",
        "ratings = ratings.merge(books[['book_id', 'title']], left_on='book_id', right_on='book_id')\n",
        "print(\"Shape after merge:\", ratings.shape)\n",
        "\n",
        "# 🧱 Create pivot table (Book Title × User)\n",
        "pivot = ratings.pivot_table(index='title', columns='user_id', values='rating').fillna(0)\n",
        "print(\"Shape of pivot table:\", pivot.shape)\n",
        "\n",
        "# 📏 Convert to sparse matrix\n",
        "book_sparse_matrix = csr_matrix(pivot.values)\n",
        "\n",
        "# 🤖 Train NearestNeighbors model\n",
        "model = NearestNeighbors(metric='cosine', algorithm='brute')\n",
        "model.fit(book_sparse_matrix)\n",
        "\n",
        "print(\"Model trained successfully!\")"
      ],
      "execution_count": 28,
      "outputs": [
        {
          "output_type": "stream",
          "name": "stdout",
          "text": [
            "Ratings shape before filtering: (5976479, 3)\n",
            "Books shape: (10000, 23)\n",
            "Shape after user filtering: (5942836, 3)\n",
            "Shape after book filtering: (5942793, 3)\n",
            "Shape after merge: (5942793, 4)\n",
            "Shape of pivot table: (9958, 52525)\n",
            "Model trained successfully!\n"
          ]
        }
      ]
    },
    {
      "cell_type": "code",
      "source": [
        "import difflib\n",
        "\n",
        "def get_recommends(book_title):\n",
        "    closest_match = difflib.get_close_matches(book_title, pivot.index, n=1)\n",
        "    if not closest_match:\n",
        "        return [book_title, []]\n",
        "\n",
        "    book_title = closest_match[0]\n",
        "    idx = pivot.index.get_loc(book_title)\n",
        "\n",
        "    distances, indices = model.kneighbors(book_sparse_matrix[idx], n_neighbors=6)\n",
        "    recommended_books = []\n",
        "    for i in range(1, len(distances[0])):\n",
        "        recommended_books.append([pivot.index[indices[0][i]], distances[0][i]])\n",
        "\n",
        "    return [book_title, recommended_books]\n"
      ],
      "metadata": {
        "id": "SQRfQM61PRY2"
      },
      "execution_count": 29,
      "outputs": []
    },
    {
      "cell_type": "code",
      "source": [
        "result = get_recommends(\"Harry Potter and the Chamber of Secrets (Book 2)\")\n",
        "print(result)"
      ],
      "metadata": {
        "colab": {
          "base_uri": "https://localhost:8080/"
        },
        "id": "8x8DOK1MPS7S",
        "outputId": "473efc43-f051-46fc-86c9-cb3c40b66377"
      },
      "execution_count": 30,
      "outputs": [
        {
          "output_type": "stream",
          "name": "stdout",
          "text": [
            "['Harry Potter and the Chamber of Secrets (Harry Potter, #2)', [['Harry Potter and the Prisoner of Azkaban (Harry Potter, #3)', np.float64(0.09357128007834048)], ['Harry Potter and the Goblet of Fire (Harry Potter, #4)', np.float64(0.11517681198172391)], ['Harry Potter and the Half-Blood Prince (Harry Potter, #6)', np.float64(0.13613532775521875)], ['Harry Potter and the Order of the Phoenix (Harry Potter, #5)', np.float64(0.13758823688501398)], ['Harry Potter and the Deathly Hallows (Harry Potter, #7)', np.float64(0.16585632795378547)]]]\n"
          ]
        }
      ]
    }
  ]
}
